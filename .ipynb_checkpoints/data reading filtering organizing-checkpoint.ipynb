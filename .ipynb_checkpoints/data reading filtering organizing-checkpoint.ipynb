{
 "cells": [
  {
   "cell_type": "markdown",
   "metadata": {},
   "source": [
    "## Import functions and direct to raw files"
   ]
  },
  {
   "cell_type": "code",
   "execution_count": null,
   "metadata": {},
   "outputs": [],
   "source": [
    "# Import functions\n",
    "import pandas as pd\n",
    "import glob\n",
    "import csv\n",
    "\n",
    "glob.os.chdir(\"d:/new GWAS results-12232020/compare between set1 and set2/\") # Direct to location of raw files\n",
    "print(glob.os.listdir()) #Show all the files under the current catalog"
   ]
  },
  {
   "cell_type": "markdown",
   "metadata": {},
   "source": [
    "## Open each csv file, filter results and export new generated files as csv"
   ]
  },
  {
   "cell_type": "code",
   "execution_count": null,
   "metadata": {},
   "outputs": [],
   "source": [
    "for i in range(1, 243): # Open each raw csv file using for loop function. Should go from first number to last number plus one\n",
    "    df = pd.read_csv(\"W\" + str(i) + \"_pvals\"\".csv\") # Read in files\n",
    "    exp_ID = \"set1_W\" + str(i) # Name ID of each lipid phenotype. Here using number and letter to indicate treatment (set1_W means wounding group in first experiment).\n",
    "    df['exp_ID'] = exp_ID # Add a column with the lipid phenotype ID\n",
    "    position = df[\"chr\"].map(str) + \"_\" + df[\"pos\"].map(str) # combination of chr and pos\n",
    "    df[\"position\"] = position # Add a column with SNP position\n",
    "    idx = df.score >= 2  # Rows in which the score is greater than 2 - save those\n",
    "    df = df[idx]\n",
    "    idx_1 = df.maf >= 0.05 # Rows in which the maf is greater than 0.05 - save those\n",
    "    output_file_name =  'set1_W' + str(i) + \".csv\" # \"W\" for wounding treatment\n",
    "    df[idx_1].to_csv(output_file_name) # Export new generated files using a new file name"
   ]
  }
 ],
 "metadata": {
  "kernelspec": {
   "display_name": "Python 3",
   "language": "python",
   "name": "python3"
  },
  "language_info": {
   "codemirror_mode": {
    "name": "ipython",
    "version": 3
   },
   "file_extension": ".py",
   "mimetype": "text/x-python",
   "name": "python",
   "nbconvert_exporter": "python",
   "pygments_lexer": "ipython3",
   "version": "3.7.4"
  }
 },
 "nbformat": 4,
 "nbformat_minor": 4
}

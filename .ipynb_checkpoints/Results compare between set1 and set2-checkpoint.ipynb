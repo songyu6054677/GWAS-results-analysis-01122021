{
 "cells": [
  {
   "cell_type": "code",
   "execution_count": 1,
   "metadata": {},
   "outputs": [
    {
     "name": "stdout",
     "output_type": "stream",
     "text": [
      "['control compare criteria_1-annotated.csv', 'control compare criteria_1-annotated.xlsx', 'control compare criteria_1.csv', 'control compare criteria_2-annotated.csv', 'control compare criteria_2-annotated.xlsx', 'control compare criteria_2.csv', 'control compare.csv', 'Control Summary-set1.csv', 'Control Summary-set2.csv', 'freezing compare criteria_1-annotated.csv', 'freezing compare criteria_1-annotated.xlsx', 'freezing compare criteria_1.csv', 'freezing compare criteria_2-annotated.csv', 'freezing compare criteria_2-annotated.xlsx', 'freezing compare criteria_2.csv', 'freezing compare.csv', 'Freezing Summary-set1.csv', 'Freezing Summary-set2.csv', 'wounding compare criteria_1-annotated.csv', 'wounding compare criteria_1-annotated.xlsx', 'wounding compare criteria_1.csv', 'wounding compare criteria_2-annotated.csv', 'wounding compare criteria_2-annotated.xlsx', 'wounding compare criteria_2.csv', 'wounding compare.csv', 'Wounding Summary-set1.csv', 'Wounding Summary-set2.csv']\n"
     ]
    }
   ],
   "source": [
    "# Import functions\n",
    "import pandas as pd\n",
    "import glob\n",
    "import csv\n",
    "\n",
    "glob.os.chdir(\"d:/new GWAS results-12232020/compare between set1 and set2/\") # Direct to location of raw files\n",
    "print(glob.os.listdir()) #Show all the files under the current catalog"
   ]
  },
  {
   "cell_type": "markdown",
   "metadata": {},
   "source": [
    "## Find common SNPs for each lipid phenotype between set1 and set2"
   ]
  },
  {
   "cell_type": "code",
   "execution_count": null,
   "metadata": {},
   "outputs": [],
   "source": [
    "df1 = pd.read_csv(\"Control Summary-set1.csv\") # Read a summary result file with all lipid phenotypes of set1\n",
    "df2 = pd.read_csv(\"Control Summary-set2.csv\") # Read a summary result file with all lipid phenotypes of set2\n",
    "overlap = pd.merge(df1, df2, on=['position', 'lipid name', 'transformation'], how='inner') # Compare summary result files of set1 and set2, use merge function to find and keep same entries based on SNP position,lipid name, and transformation method.\n",
    "output_file_name =  \"control compare.csv\"\n",
    "overlap.to_csv(output_file_name) # Export new generated files using a new file name"
   ]
  }
 ],
 "metadata": {
  "kernelspec": {
   "display_name": "Python 3",
   "language": "python",
   "name": "python3"
  },
  "language_info": {
   "codemirror_mode": {
    "name": "ipython",
    "version": 3
   },
   "file_extension": ".py",
   "mimetype": "text/x-python",
   "name": "python",
   "nbconvert_exporter": "python",
   "pygments_lexer": "ipython3",
   "version": "3.7.4"
  }
 },
 "nbformat": 4,
 "nbformat_minor": 4
}
